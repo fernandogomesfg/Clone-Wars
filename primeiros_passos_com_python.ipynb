{
  "nbformat": 4,
  "nbformat_minor": 0,
  "metadata": {
    "colab": {
      "provenance": [],
      "authorship_tag": "ABX9TyOZR3I0DdUsJSK0xRdzXEwg",
      "include_colab_link": true
    },
    "kernelspec": {
      "name": "python3",
      "display_name": "Python 3"
    },
    "language_info": {
      "name": "python"
    }
  },
  "cells": [
    {
      "cell_type": "markdown",
      "metadata": {
        "id": "view-in-github",
        "colab_type": "text"
      },
      "source": [
        "<a href=\"https://colab.research.google.com/github/fernandogomesfg/Clone-Wars/blob/main/primeiros_passos_com_python.ipynb\" target=\"_parent\"><img src=\"https://colab.research.google.com/assets/colab-badge.svg\" alt=\"Open In Colab\"/></a>"
      ]
    },
    {
      "cell_type": "markdown",
      "source": [
        "# Função print()\n",
        "A função print() é uma das funções mais importantes e usadas na linguagem Python. Sua função é, basicamente, exibir mensagens na tela ou enviá-las para outro dispositivo, como imprimir dentro de arquivos de texto.\n",
        "\n",
        "No Python 3, print() é uma função interna, de modo que não é necessário importar nenhuma biblioteca para poder utilizá-la. Basta chamá-la e passar os argumentos necessários."
      ],
      "metadata": {
        "id": "yOrUXrtvJRhw"
      }
    },
    {
      "cell_type": "code",
      "execution_count": null,
      "metadata": {
        "colab": {
          "base_uri": "https://localhost:8080/"
        },
        "id": "42e79LL-FxSk",
        "outputId": "a2d3d6cf-2204-4e84-d0fd-1d95bb976f2b"
      },
      "outputs": [
        {
          "output_type": "stream",
          "name": "stdout",
          "text": [
            "Ola Mundo\n"
          ]
        }
      ],
      "source": [
        "print(\"Ola Mundo\")"
      ]
    },
    {
      "cell_type": "code",
      "source": [
        "print(\"Ola mundo\")"
      ],
      "metadata": {
        "colab": {
          "base_uri": "https://localhost:8080/"
        },
        "id": "oLrpGWc0JQ_7",
        "outputId": "059c60db-6635-4e53-e469-86f8d7becc91"
      },
      "execution_count": null,
      "outputs": [
        {
          "output_type": "stream",
          "name": "stdout",
          "text": [
            "Meu primeiro print\n"
          ]
        }
      ]
    },
    {
      "cell_type": "code",
      "source": [
        "print(\"D'agua\")"
      ],
      "metadata": {
        "colab": {
          "base_uri": "https://localhost:8080/"
        },
        "id": "WnwB3h2XKrFV",
        "outputId": "c5539a69-d546-4248-c256-bc2cd86e26be"
      },
      "execution_count": null,
      "outputs": [
        {
          "output_type": "stream",
          "name": "stdout",
          "text": [
            "D'agua\n"
          ]
        }
      ]
    },
    {
      "cell_type": "code",
      "source": [
        "100 * 300"
      ],
      "metadata": {
        "colab": {
          "base_uri": "https://localhost:8080/"
        },
        "id": "CVC6qqhrK_ck",
        "outputId": "f17ad4c1-da0f-46d1-edc5-f26a63e0f6a7"
      },
      "execution_count": null,
      "outputs": [
        {
          "output_type": "execute_result",
          "data": {
            "text/plain": [
              "30000"
            ]
          },
          "metadata": {},
          "execution_count": 5
        }
      ]
    },
    {
      "cell_type": "code",
      "source": [
        "309 * 6"
      ],
      "metadata": {
        "colab": {
          "base_uri": "https://localhost:8080/"
        },
        "id": "xxpqhE5FLQv9",
        "outputId": "59ef6557-2323-4889-b2b9-7e58314ee5b2"
      },
      "execution_count": null,
      "outputs": [
        {
          "output_type": "execute_result",
          "data": {
            "text/plain": [
              "1854"
            ]
          },
          "metadata": {},
          "execution_count": 6
        }
      ]
    },
    {
      "cell_type": "code",
      "source": [
        "56 * 5\n",
        "6 * 8"
      ],
      "metadata": {
        "colab": {
          "base_uri": "https://localhost:8080/"
        },
        "id": "RF6amEDzLSvl",
        "outputId": "452e4a57-4980-4712-c4ca-3cd40e6de973"
      },
      "execution_count": null,
      "outputs": [
        {
          "output_type": "execute_result",
          "data": {
            "text/plain": [
              "48"
            ]
          },
          "metadata": {},
          "execution_count": 7
        }
      ]
    },
    {
      "cell_type": "code",
      "source": [
        "print(54 * 4)\n",
        "print(4 * 4)"
      ],
      "metadata": {
        "colab": {
          "base_uri": "https://localhost:8080/"
        },
        "id": "X5FUU0QbLV-X",
        "outputId": "27bff1a0-2ee9-4afc-ce6a-a030c80083b6"
      },
      "execution_count": null,
      "outputs": [
        {
          "output_type": "stream",
          "name": "stdout",
          "text": [
            "216\n",
            "16\n"
          ]
        }
      ]
    },
    {
      "cell_type": "code",
      "source": [
        "nome = \"Fernando\""
      ],
      "metadata": {
        "id": "Q6FL0P3gL3KM"
      },
      "execution_count": null,
      "outputs": []
    },
    {
      "cell_type": "code",
      "source": [
        "print(nome)"
      ],
      "metadata": {
        "colab": {
          "base_uri": "https://localhost:8080/"
        },
        "id": "1dtHQc-5L5NZ",
        "outputId": "77f220bf-2418-449a-de77-23c1a15d43c2"
      },
      "execution_count": null,
      "outputs": [
        {
          "output_type": "stream",
          "name": "stdout",
          "text": [
            "Fernando\n"
          ]
        }
      ]
    },
    {
      "cell_type": "code",
      "source": [
        "print(\"Fernando\", 103893, \"Python\", 12 * 2)"
      ],
      "metadata": {
        "colab": {
          "base_uri": "https://localhost:8080/"
        },
        "id": "u6Xom9r3L6mU",
        "outputId": "70673112-100b-43e6-c1bd-c48ed514786e"
      },
      "execution_count": null,
      "outputs": [
        {
          "output_type": "stream",
          "name": "stdout",
          "text": [
            "Fernando 103893 Python 24\n"
          ]
        }
      ]
    },
    {
      "cell_type": "markdown",
      "source": [
        "# A função input()\n",
        "É muito comum em programação precisarmos que o usuário passe para o programa algum tipo de dado.\n",
        "\n",
        "Na linguagem Python, podemos receber dados do usuário através da função input.\n",
        "\n",
        "Essa função recebe como parâmetro uma string, que será mostrada ao usuário, geralmente orientando sobre o tipo de dado que o programa espera receber."
      ],
      "metadata": {
        "id": "420KknXwMdbx"
      }
    },
    {
      "cell_type": "code",
      "source": [
        "input()"
      ],
      "metadata": {
        "colab": {
          "base_uri": "https://localhost:8080/",
          "height": 52
        },
        "id": "tl4IkvdJM2tZ",
        "outputId": "1237928b-5c3c-4396-96d3-932ef701892c"
      },
      "execution_count": null,
      "outputs": [
        {
          "name": "stdout",
          "output_type": "stream",
          "text": [
            "Fernando\n"
          ]
        },
        {
          "output_type": "execute_result",
          "data": {
            "text/plain": [
              "'Fernando'"
            ],
            "application/vnd.google.colaboratory.intrinsic+json": {
              "type": "string"
            }
          },
          "metadata": {},
          "execution_count": 14
        }
      ]
    },
    {
      "cell_type": "code",
      "source": [
        "input(\"Digite seu nome: \")"
      ],
      "metadata": {
        "colab": {
          "base_uri": "https://localhost:8080/",
          "height": 52
        },
        "id": "HAqbQgObM3bg",
        "outputId": "2da74530-b66a-4ff1-c0e9-ef44dbcfb0fd"
      },
      "execution_count": null,
      "outputs": [
        {
          "name": "stdout",
          "output_type": "stream",
          "text": [
            "Digite seu nome: Fernando\n"
          ]
        },
        {
          "output_type": "execute_result",
          "data": {
            "text/plain": [
              "'Fernando'"
            ],
            "application/vnd.google.colaboratory.intrinsic+json": {
              "type": "string"
            }
          },
          "metadata": {},
          "execution_count": 15
        }
      ]
    },
    {
      "cell_type": "code",
      "source": [
        "print(input(\"Digite seu nome: \"))"
      ],
      "metadata": {
        "colab": {
          "base_uri": "https://localhost:8080/"
        },
        "id": "-epwRBMWM3ZJ",
        "outputId": "c2999575-fb72-452f-e290-6350b8e25e69"
      },
      "execution_count": null,
      "outputs": [
        {
          "output_type": "stream",
          "name": "stdout",
          "text": [
            "Digite seu nome: Fernando\n",
            "Fernando\n"
          ]
        }
      ]
    },
    {
      "cell_type": "code",
      "source": [
        "nome = input(\"Digite seu nome: \")"
      ],
      "metadata": {
        "colab": {
          "base_uri": "https://localhost:8080/"
        },
        "id": "UaPAazfPOASy",
        "outputId": "679ded5a-c8b7-4aba-c1b0-32ad9a5a3c0c"
      },
      "execution_count": null,
      "outputs": [
        {
          "name": "stdout",
          "output_type": "stream",
          "text": [
            "Digite seu nome: Fernando\n"
          ]
        }
      ]
    },
    {
      "cell_type": "code",
      "source": [
        "nome"
      ],
      "metadata": {
        "colab": {
          "base_uri": "https://localhost:8080/",
          "height": 35
        },
        "id": "rVeatexeOI-Z",
        "outputId": "8aca9c15-3230-42de-af26-19ad8e6d9923"
      },
      "execution_count": null,
      "outputs": [
        {
          "output_type": "execute_result",
          "data": {
            "text/plain": [
              "'Fernando'"
            ],
            "application/vnd.google.colaboratory.intrinsic+json": {
              "type": "string"
            }
          },
          "metadata": {},
          "execution_count": 20
        }
      ]
    },
    {
      "cell_type": "code",
      "source": [
        "numero1 = input(\"Digite o primeiro numero: \")"
      ],
      "metadata": {
        "colab": {
          "base_uri": "https://localhost:8080/"
        },
        "id": "ilYOL-CaOObW",
        "outputId": "9c14f222-1db9-41c4-8650-47a00440b441"
      },
      "execution_count": null,
      "outputs": [
        {
          "name": "stdout",
          "output_type": "stream",
          "text": [
            "Digite o primeiro numero: 233\n"
          ]
        }
      ]
    },
    {
      "cell_type": "code",
      "source": [
        "numero2 = input(\"Digite o segundo numero: \")"
      ],
      "metadata": {
        "colab": {
          "base_uri": "https://localhost:8080/"
        },
        "id": "-nLQykJJOVSx",
        "outputId": "84486986-9ea0-4748-a299-2f53acc9413d"
      },
      "execution_count": null,
      "outputs": [
        {
          "name": "stdout",
          "output_type": "stream",
          "text": [
            "Digite o segundo numero: 10\n"
          ]
        }
      ]
    },
    {
      "cell_type": "code",
      "source": [
        "print(numero1)\n",
        "print(numero2)"
      ],
      "metadata": {
        "colab": {
          "base_uri": "https://localhost:8080/"
        },
        "id": "xe-WUxv4OZwu",
        "outputId": "d2c44a9a-e182-4ad0-b082-52951f95d8a4"
      },
      "execution_count": null,
      "outputs": [
        {
          "output_type": "stream",
          "name": "stdout",
          "text": [
            "233\n",
            "10\n"
          ]
        }
      ]
    },
    {
      "cell_type": "code",
      "source": [
        "print(int(numero1) + int(numero2))"
      ],
      "metadata": {
        "colab": {
          "base_uri": "https://localhost:8080/"
        },
        "id": "-jdsFxPrOf_c",
        "outputId": "2e7a50e6-a6ac-4b23-ad37-40f3a629f601"
      },
      "execution_count": null,
      "outputs": [
        {
          "output_type": "stream",
          "name": "stdout",
          "text": [
            "243\n"
          ]
        }
      ]
    },
    {
      "cell_type": "markdown",
      "source": [
        "# Operadores aritméticos\n",
        "Todo mundo já usou operadores aritméticos na escola! Nos primeiros anos de estudo aprendemos a fazer continhas de soma, subtração, multiplicação e divisão.\n",
        "\n",
        "No Python também temos esses operadores e podemos realizar todos esses cálculos!"
      ],
      "metadata": {
        "id": "z4FBRK6aPKLb"
      }
    },
    {
      "cell_type": "markdown",
      "source": [
        "## Adição"
      ],
      "metadata": {
        "id": "8POL6aiVQFcZ"
      }
    },
    {
      "cell_type": "code",
      "source": [
        "print(230 + 230 + 39 + 94 + 73)\n",
        "print(10 + 10)"
      ],
      "metadata": {
        "colab": {
          "base_uri": "https://localhost:8080/"
        },
        "id": "ZrsYPoBEQEPw",
        "outputId": "81ec623f-ac69-4a66-bbe8-77980bfe26a5"
      },
      "execution_count": null,
      "outputs": [
        {
          "output_type": "stream",
          "name": "stdout",
          "text": [
            "666\n",
            "20\n"
          ]
        }
      ]
    },
    {
      "cell_type": "markdown",
      "source": [
        "## Subtração"
      ],
      "metadata": {
        "id": "t8cWpAe_QmNy"
      }
    },
    {
      "cell_type": "code",
      "source": [
        "print(430 - 4)\n",
        "print(39 - 93 - 2939)\n",
        "print(32 - 2)"
      ],
      "metadata": {
        "colab": {
          "base_uri": "https://localhost:8080/"
        },
        "id": "7Rjsr6RwQQVB",
        "outputId": "e923ab2e-be68-4d79-ad8e-c833e4fc80d0"
      },
      "execution_count": null,
      "outputs": [
        {
          "output_type": "stream",
          "name": "stdout",
          "text": [
            "426\n",
            "-2993\n",
            "30\n"
          ]
        }
      ]
    },
    {
      "cell_type": "markdown",
      "source": [
        "## Multiplicação"
      ],
      "metadata": {
        "id": "UOz4VMIvQyHW"
      }
    },
    {
      "cell_type": "code",
      "source": [
        "print(5 * 5)"
      ],
      "metadata": {
        "colab": {
          "base_uri": "https://localhost:8080/"
        },
        "id": "QsB_Ct7dQzDY",
        "outputId": "e9a08ec2-f034-4710-e060-aa424bc9814f"
      },
      "execution_count": null,
      "outputs": [
        {
          "output_type": "stream",
          "name": "stdout",
          "text": [
            "25\n"
          ]
        }
      ]
    },
    {
      "cell_type": "code",
      "source": [
        "print(2 * 5 * 5 * 3)"
      ],
      "metadata": {
        "colab": {
          "base_uri": "https://localhost:8080/"
        },
        "id": "4uzJJOhHQ4Uw",
        "outputId": "278bcc5c-beaa-4cb1-c5d9-cd5cc4dbaab7"
      },
      "execution_count": null,
      "outputs": [
        {
          "output_type": "stream",
          "name": "stdout",
          "text": [
            "150\n"
          ]
        }
      ]
    },
    {
      "cell_type": "markdown",
      "source": [
        "## Divisão"
      ],
      "metadata": {
        "id": "gMB7Kp7XQ9N4"
      }
    },
    {
      "cell_type": "code",
      "source": [
        "print(100 / 10)"
      ],
      "metadata": {
        "colab": {
          "base_uri": "https://localhost:8080/"
        },
        "id": "e3ue0sgIRDZ7",
        "outputId": "5c7e6f23-6cf5-4305-b0fe-ca7892dbcb70"
      },
      "execution_count": null,
      "outputs": [
        {
          "output_type": "stream",
          "name": "stdout",
          "text": [
            "10.0\n"
          ]
        }
      ]
    },
    {
      "cell_type": "code",
      "source": [
        "print(203 / 39)"
      ],
      "metadata": {
        "colab": {
          "base_uri": "https://localhost:8080/"
        },
        "id": "ngrD1x9DRGTG",
        "outputId": "0e5fcbf3-0c59-43aa-c125-2d4829b767c5"
      },
      "execution_count": null,
      "outputs": [
        {
          "output_type": "stream",
          "name": "stdout",
          "text": [
            "5.205128205128205\n"
          ]
        }
      ]
    },
    {
      "cell_type": "code",
      "source": [
        "print(35 / 8)"
      ],
      "metadata": {
        "colab": {
          "base_uri": "https://localhost:8080/"
        },
        "id": "ln7rYuheRSGN",
        "outputId": "0843646e-7364-41d6-e718-b3e543185d2e"
      },
      "execution_count": null,
      "outputs": [
        {
          "output_type": "stream",
          "name": "stdout",
          "text": [
            "4.375\n"
          ]
        }
      ]
    },
    {
      "cell_type": "markdown",
      "source": [
        "### Divisão com resultado inteiro"
      ],
      "metadata": {
        "id": "sSv4PoA6RX0I"
      }
    },
    {
      "cell_type": "code",
      "source": [
        "print(30 // 7)"
      ],
      "metadata": {
        "colab": {
          "base_uri": "https://localhost:8080/"
        },
        "id": "8KNWLen4RZYY",
        "outputId": "5b929999-5e41-45ba-d5ea-a5aa8af358ae"
      },
      "execution_count": null,
      "outputs": [
        {
          "output_type": "stream",
          "name": "stdout",
          "text": [
            "4\n"
          ]
        }
      ]
    },
    {
      "cell_type": "code",
      "source": [
        "print(100 / 10)"
      ],
      "metadata": {
        "colab": {
          "base_uri": "https://localhost:8080/"
        },
        "id": "tiFGKIHYRf_j",
        "outputId": "79fc05ed-c065-4016-908d-a181d0615a56"
      },
      "execution_count": null,
      "outputs": [
        {
          "output_type": "stream",
          "name": "stdout",
          "text": [
            "10.0\n"
          ]
        }
      ]
    },
    {
      "cell_type": "code",
      "source": [
        "print(35 / 8)\n",
        "print(35 // 8)"
      ],
      "metadata": {
        "colab": {
          "base_uri": "https://localhost:8080/"
        },
        "id": "KuZfzrskRiSn",
        "outputId": "084a6e41-977c-4898-ed02-2f0c83b5f961"
      },
      "execution_count": null,
      "outputs": [
        {
          "output_type": "stream",
          "name": "stdout",
          "text": [
            "4.375\n",
            "4\n"
          ]
        }
      ]
    },
    {
      "cell_type": "code",
      "source": [
        "print(315 / 4)\n",
        "print(315 // 4)"
      ],
      "metadata": {
        "colab": {
          "base_uri": "https://localhost:8080/"
        },
        "id": "buY5x53FRkuk",
        "outputId": "7ef06e42-3f92-4144-bd92-2372f4e319d9"
      },
      "execution_count": null,
      "outputs": [
        {
          "output_type": "stream",
          "name": "stdout",
          "text": [
            "78.75\n",
            "78\n"
          ]
        }
      ]
    },
    {
      "cell_type": "markdown",
      "source": [
        "### Módulo"
      ],
      "metadata": {
        "id": "JlPzwnuzR2eh"
      }
    },
    {
      "cell_type": "code",
      "source": [
        "print(100 % 10)"
      ],
      "metadata": {
        "colab": {
          "base_uri": "https://localhost:8080/"
        },
        "id": "J1CYEH-ERsa7",
        "outputId": "c70c1431-6131-475b-efe5-d17e2bdadcec"
      },
      "execution_count": null,
      "outputs": [
        {
          "output_type": "stream",
          "name": "stdout",
          "text": [
            "0\n"
          ]
        }
      ]
    },
    {
      "cell_type": "code",
      "source": [
        "print(100 % 3)"
      ],
      "metadata": {
        "colab": {
          "base_uri": "https://localhost:8080/"
        },
        "id": "MVokyxGUR98e",
        "outputId": "7e34adba-8509-4a27-d5b1-3ccdf9b52c41"
      },
      "execution_count": null,
      "outputs": [
        {
          "output_type": "stream",
          "name": "stdout",
          "text": [
            "1\n"
          ]
        }
      ]
    },
    {
      "cell_type": "code",
      "source": [
        "print(315 % 4)"
      ],
      "metadata": {
        "colab": {
          "base_uri": "https://localhost:8080/"
        },
        "id": "MDq4F7jeSASX",
        "outputId": "4564f0f2-f535-4851-f910-d88250fcbd6d"
      },
      "execution_count": null,
      "outputs": [
        {
          "output_type": "stream",
          "name": "stdout",
          "text": [
            "3\n"
          ]
        }
      ]
    },
    {
      "cell_type": "code",
      "source": [
        "print(235 % 42)"
      ],
      "metadata": {
        "colab": {
          "base_uri": "https://localhost:8080/"
        },
        "id": "1eBYKB9sSECP",
        "outputId": "9d03364d-0b5a-47c3-a206-06aa5cb39567"
      },
      "execution_count": null,
      "outputs": [
        {
          "output_type": "stream",
          "name": "stdout",
          "text": [
            "25\n"
          ]
        }
      ]
    },
    {
      "cell_type": "markdown",
      "source": [
        "## Exponenciação"
      ],
      "metadata": {
        "id": "Bc6W-p7eSVTw"
      }
    },
    {
      "cell_type": "code",
      "source": [
        "print( 10 ** 2)"
      ],
      "metadata": {
        "colab": {
          "base_uri": "https://localhost:8080/"
        },
        "id": "xDc7Zt3rSWWI",
        "outputId": "6e6d1e76-f0ee-49e2-ad7c-a3c4db475f08"
      },
      "execution_count": null,
      "outputs": [
        {
          "output_type": "stream",
          "name": "stdout",
          "text": [
            "100\n"
          ]
        }
      ]
    },
    {
      "cell_type": "code",
      "source": [
        "print( 10 ** 4)"
      ],
      "metadata": {
        "colab": {
          "base_uri": "https://localhost:8080/"
        },
        "id": "_iPvbDcESYom",
        "outputId": "d5ef6a8d-6b22-4b59-e3dd-139b01848d70"
      },
      "execution_count": null,
      "outputs": [
        {
          "output_type": "stream",
          "name": "stdout",
          "text": [
            "10000\n"
          ]
        }
      ]
    },
    {
      "cell_type": "code",
      "source": [
        "print( 3 ** 3)"
      ],
      "metadata": {
        "colab": {
          "base_uri": "https://localhost:8080/"
        },
        "id": "Entkw1VmSZ0h",
        "outputId": "f2a10d0e-4485-4eb0-d0d1-d8e75bfe79e5"
      },
      "execution_count": null,
      "outputs": [
        {
          "output_type": "stream",
          "name": "stdout",
          "text": [
            "27\n"
          ]
        }
      ]
    },
    {
      "cell_type": "markdown",
      "source": [
        "# O que são variáveis?\n",
        "Variáveis são um dos recursos mais básicos das linguagens de programação.\n",
        "\n",
        "Através da utilização de variáveis, podemos armazenar dados na memória do computador para acessá-los mais tarde, quando forem necessários."
      ],
      "metadata": {
        "id": "uXgSr5ZhsvCk"
      }
    },
    {
      "cell_type": "code",
      "source": [
        "nome = \"Fernando\""
      ],
      "metadata": {
        "id": "A8bUCkCXs2Db"
      },
      "execution_count": null,
      "outputs": []
    },
    {
      "cell_type": "code",
      "source": [
        "print(nome)"
      ],
      "metadata": {
        "colab": {
          "base_uri": "https://localhost:8080/"
        },
        "id": "68zHBuV0s8Nj",
        "outputId": "6ab3fc51-c00c-4121-fec2-f1518d7a960c"
      },
      "execution_count": null,
      "outputs": [
        {
          "output_type": "stream",
          "name": "stdout",
          "text": [
            "Fernando\n"
          ]
        }
      ]
    },
    {
      "cell_type": "code",
      "source": [
        "nome = \"Gomes\""
      ],
      "metadata": {
        "id": "lCWV5c22s9Tq"
      },
      "execution_count": null,
      "outputs": []
    },
    {
      "cell_type": "code",
      "source": [
        "print(nome)"
      ],
      "metadata": {
        "colab": {
          "base_uri": "https://localhost:8080/"
        },
        "id": "1kEWgrWds_z4",
        "outputId": "48e793e1-8277-43ee-bf14-a143a7fff2e0"
      },
      "execution_count": null,
      "outputs": [
        {
          "output_type": "stream",
          "name": "stdout",
          "text": [
            "Gomes\n"
          ]
        }
      ]
    },
    {
      "cell_type": "markdown",
      "source": [
        "# Tipos de variáveis"
      ],
      "metadata": {
        "id": "nkZLTr6ltK7o"
      }
    },
    {
      "cell_type": "markdown",
      "source": [
        "## Inteiros"
      ],
      "metadata": {
        "id": "005l1HNvtTtF"
      }
    },
    {
      "cell_type": "code",
      "source": [
        "numero_telefone = 840357939"
      ],
      "metadata": {
        "id": "C9-cPs5ltBS4"
      },
      "execution_count": null,
      "outputs": []
    },
    {
      "cell_type": "code",
      "source": [
        "type(numero_telefone)"
      ],
      "metadata": {
        "colab": {
          "base_uri": "https://localhost:8080/"
        },
        "id": "_MEpiOEYtXjS",
        "outputId": "d5a2f905-1b45-4d18-8534-28b12a7f085c"
      },
      "execution_count": null,
      "outputs": [
        {
          "output_type": "execute_result",
          "data": {
            "text/plain": [
              "int"
            ]
          },
          "metadata": {},
          "execution_count": 6
        }
      ]
    },
    {
      "cell_type": "markdown",
      "source": [
        "## Floats"
      ],
      "metadata": {
        "id": "V2F4amJztf18"
      }
    },
    {
      "cell_type": "code",
      "source": [
        "altura = 1.80"
      ],
      "metadata": {
        "id": "bxMTkYz7ta66"
      },
      "execution_count": null,
      "outputs": []
    },
    {
      "cell_type": "code",
      "source": [
        "type(altura)"
      ],
      "metadata": {
        "colab": {
          "base_uri": "https://localhost:8080/"
        },
        "id": "uZmvpf_btiNJ",
        "outputId": "03400dfd-f066-446d-de8a-93ab1150afc0"
      },
      "execution_count": null,
      "outputs": [
        {
          "output_type": "execute_result",
          "data": {
            "text/plain": [
              "float"
            ]
          },
          "metadata": {},
          "execution_count": 8
        }
      ]
    },
    {
      "cell_type": "markdown",
      "source": [
        "## Strings"
      ],
      "metadata": {
        "id": "_1Cd-NuXtmXc"
      }
    },
    {
      "cell_type": "code",
      "source": [
        "nome = \"Fernando Gomes\""
      ],
      "metadata": {
        "id": "IszKuqKAtkIB"
      },
      "execution_count": null,
      "outputs": []
    },
    {
      "cell_type": "code",
      "source": [
        "type(nome)"
      ],
      "metadata": {
        "colab": {
          "base_uri": "https://localhost:8080/"
        },
        "id": "0dqFunywtw36",
        "outputId": "dd9b407c-d606-4378-db65-a09080ffdcb5"
      },
      "execution_count": null,
      "outputs": [
        {
          "output_type": "execute_result",
          "data": {
            "text/plain": [
              "str"
            ]
          },
          "metadata": {},
          "execution_count": 10
        }
      ]
    },
    {
      "cell_type": "markdown",
      "source": [
        "## Booleanos"
      ],
      "metadata": {
        "id": "LQdghvr5t3LZ"
      }
    },
    {
      "cell_type": "code",
      "source": [
        "True"
      ],
      "metadata": {
        "colab": {
          "base_uri": "https://localhost:8080/"
        },
        "id": "6UswjAZItyS0",
        "outputId": "2ed72aa9-4812-48d6-b884-d4ab6d3bb82d"
      },
      "execution_count": null,
      "outputs": [
        {
          "output_type": "execute_result",
          "data": {
            "text/plain": [
              "True"
            ]
          },
          "metadata": {},
          "execution_count": 11
        }
      ]
    },
    {
      "cell_type": "code",
      "source": [
        "type(True)"
      ],
      "metadata": {
        "colab": {
          "base_uri": "https://localhost:8080/"
        },
        "id": "WueqxC35t9Bl",
        "outputId": "64c7ae69-4e8e-4881-b977-49087e314c0e"
      },
      "execution_count": null,
      "outputs": [
        {
          "output_type": "execute_result",
          "data": {
            "text/plain": [
              "bool"
            ]
          },
          "metadata": {},
          "execution_count": 12
        }
      ]
    },
    {
      "cell_type": "code",
      "source": [
        "False"
      ],
      "metadata": {
        "colab": {
          "base_uri": "https://localhost:8080/"
        },
        "id": "3eDoydwat-fV",
        "outputId": "28cb8c00-3f3a-4b71-eddf-85effbc490d5"
      },
      "execution_count": null,
      "outputs": [
        {
          "output_type": "execute_result",
          "data": {
            "text/plain": [
              "False"
            ]
          },
          "metadata": {},
          "execution_count": 13
        }
      ]
    },
    {
      "cell_type": "code",
      "source": [
        "type(False)"
      ],
      "metadata": {
        "colab": {
          "base_uri": "https://localhost:8080/"
        },
        "id": "0NL4XHvzt_Zd",
        "outputId": "a340aa7a-7add-4904-d7a7-580d5a2fdb4a"
      },
      "execution_count": null,
      "outputs": [
        {
          "output_type": "execute_result",
          "data": {
            "text/plain": [
              "bool"
            ]
          },
          "metadata": {},
          "execution_count": 14
        }
      ]
    },
    {
      "cell_type": "code",
      "source": [
        "status = True"
      ],
      "metadata": {
        "id": "BHbZsc0zuA3I"
      },
      "execution_count": null,
      "outputs": []
    },
    {
      "cell_type": "code",
      "source": [
        "type(status)"
      ],
      "metadata": {
        "colab": {
          "base_uri": "https://localhost:8080/"
        },
        "id": "VsWV14FBuC2F",
        "outputId": "64c91537-b412-4d49-dbb2-a87be7913454"
      },
      "execution_count": null,
      "outputs": [
        {
          "output_type": "execute_result",
          "data": {
            "text/plain": [
              "bool"
            ]
          },
          "metadata": {},
          "execution_count": 16
        }
      ]
    },
    {
      "cell_type": "markdown",
      "source": [
        "# Operadores relacionais"
      ],
      "metadata": {
        "id": "5aXSs-E5x6V7"
      }
    },
    {
      "cell_type": "markdown",
      "source": [
        "- \\> maior\n",
        "- < menor\n",
        "- == igual\n",
        "- \\>= maior igual\n",
        "- <= menor igual\n",
        "- != diferente"
      ],
      "metadata": {
        "id": "oSdIGoBEx9rp"
      }
    },
    {
      "cell_type": "code",
      "source": [
        "10 > 20"
      ],
      "metadata": {
        "colab": {
          "base_uri": "https://localhost:8080/"
        },
        "id": "lCLmN-AGyCLD",
        "outputId": "b62e566d-4002-47a0-f7cf-80c6346ad619"
      },
      "execution_count": null,
      "outputs": [
        {
          "output_type": "execute_result",
          "data": {
            "text/plain": [
              "False"
            ]
          },
          "metadata": {},
          "execution_count": 17
        }
      ]
    },
    {
      "cell_type": "code",
      "source": [
        "10 < 20"
      ],
      "metadata": {
        "colab": {
          "base_uri": "https://localhost:8080/"
        },
        "id": "HqCHST9FyTL1",
        "outputId": "f5bb7715-2888-44a2-f3a4-59f3f9e0fc8d"
      },
      "execution_count": null,
      "outputs": [
        {
          "output_type": "execute_result",
          "data": {
            "text/plain": [
              "True"
            ]
          },
          "metadata": {},
          "execution_count": 18
        }
      ]
    },
    {
      "cell_type": "code",
      "source": [
        "nome1 = \"Fernando\"\n",
        "nome2 = \"Fernando\"\n",
        "nome1 == nome2"
      ],
      "metadata": {
        "colab": {
          "base_uri": "https://localhost:8080/"
        },
        "id": "3xOYrKNTyUOW",
        "outputId": "8cc20bde-6a5b-4d2c-eab4-22ce69619070"
      },
      "execution_count": null,
      "outputs": [
        {
          "output_type": "execute_result",
          "data": {
            "text/plain": [
              "True"
            ]
          },
          "metadata": {},
          "execution_count": 19
        }
      ]
    },
    {
      "cell_type": "markdown",
      "source": [
        "# Operadores lógicos\n",
        "\n",
        "- AND (e)\n",
        "- OR (ou)\n",
        "- NOT (negação)"
      ],
      "metadata": {
        "id": "RcbJjLUO3D4S"
      }
    },
    {
      "cell_type": "code",
      "source": [
        " (10 > 20) and (20 > 30)\n",
        " \"\"\"\n",
        " mdk\n",
        " \"\"\""
      ],
      "metadata": {
        "colab": {
          "base_uri": "https://localhost:8080/"
        },
        "id": "ox7MrqYWypuq",
        "outputId": "070acc42-2523-4b7a-9fac-a8b44e25a7d3"
      },
      "execution_count": null,
      "outputs": [
        {
          "output_type": "execute_result",
          "data": {
            "text/plain": [
              "False"
            ]
          },
          "metadata": {},
          "execution_count": 21
        }
      ]
    },
    {
      "cell_type": "code",
      "source": [
        "(30 <= 23) or (20 == 5)"
      ],
      "metadata": {
        "colab": {
          "base_uri": "https://localhost:8080/"
        },
        "id": "LnHZeFG93Kys",
        "outputId": "093c42a2-65b7-4d4f-8e7a-0ef148be5caa"
      },
      "execution_count": null,
      "outputs": [
        {
          "output_type": "execute_result",
          "data": {
            "text/plain": [
              "False"
            ]
          },
          "metadata": {},
          "execution_count": 24
        }
      ]
    },
    {
      "cell_type": "code",
      "source": [
        "True or True"
      ],
      "metadata": {
        "colab": {
          "base_uri": "https://localhost:8080/"
        },
        "id": "5mviw-H13a3Y",
        "outputId": "8aee1239-d6c6-467a-c1d7-26db222bc222"
      },
      "execution_count": null,
      "outputs": [
        {
          "output_type": "execute_result",
          "data": {
            "text/plain": [
              "True"
            ]
          },
          "metadata": {},
          "execution_count": 25
        }
      ]
    },
    {
      "cell_type": "code",
      "source": [
        "not(True)"
      ],
      "metadata": {
        "colab": {
          "base_uri": "https://localhost:8080/"
        },
        "id": "xSKC-njM3kjS",
        "outputId": "62e71c6f-5b50-4e45-d114-4ea7117509d7"
      },
      "execution_count": null,
      "outputs": [
        {
          "output_type": "execute_result",
          "data": {
            "text/plain": [
              "False"
            ]
          },
          "metadata": {},
          "execution_count": 26
        }
      ]
    },
    {
      "cell_type": "code",
      "source": [],
      "metadata": {
        "id": "5hCnogQC3n8a"
      },
      "execution_count": null,
      "outputs": []
    },
    {
      "cell_type": "markdown",
      "source": [
        "# Strings\n",
        "\n",
        "O tipo String é usado principalmente para armazenar informações de texto, como o nome de uma pessoa, a marca de um carro ou um endereço. Nele temos uma sequência de caracteres que formam um texto. O Python permite formar strings com um par de aspas simples ou duplas."
      ],
      "metadata": {
        "id": "-C1eSMR0sISx"
      }
    },
    {
      "cell_type": "markdown",
      "source": [
        "## String são case sensitive"
      ],
      "metadata": {
        "id": "Hwk8pTm0sM2v"
      }
    },
    {
      "cell_type": "code",
      "source": [
        "\"Fernando\" == \"fernando\""
      ],
      "metadata": {
        "colab": {
          "base_uri": "https://localhost:8080/"
        },
        "id": "3CXQfSbBsPzY",
        "outputId": "71dca26d-4bc0-40a1-fd66-c5b56fb398d4"
      },
      "execution_count": null,
      "outputs": [
        {
          "output_type": "execute_result",
          "data": {
            "text/plain": [
              "False"
            ]
          },
          "metadata": {},
          "execution_count": 1
        }
      ]
    },
    {
      "cell_type": "code",
      "source": [
        "\"Fernando\" == \"Fernando\""
      ],
      "metadata": {
        "colab": {
          "base_uri": "https://localhost:8080/"
        },
        "id": "8u7-Y-TBsT-y",
        "outputId": "959f8012-35f1-47a4-a20a-7b3ed2864789"
      },
      "execution_count": null,
      "outputs": [
        {
          "output_type": "execute_result",
          "data": {
            "text/plain": [
              "True"
            ]
          },
          "metadata": {},
          "execution_count": 2
        }
      ]
    },
    {
      "cell_type": "markdown",
      "source": [
        "## Podemos concatenar strings com o operador aritmético de adição"
      ],
      "metadata": {
        "id": "9QstJExSsbyq"
      }
    },
    {
      "cell_type": "code",
      "source": [
        "nome = \"Fernando\"\n",
        "sobrenome = \"Gomes\""
      ],
      "metadata": {
        "id": "le9lbJx1sXwT"
      },
      "execution_count": null,
      "outputs": []
    },
    {
      "cell_type": "code",
      "source": [
        "print(nome, sobrenome)"
      ],
      "metadata": {
        "colab": {
          "base_uri": "https://localhost:8080/"
        },
        "id": "4q7IpmOns9U0",
        "outputId": "6a294465-496b-4cf0-d4bb-a245429dda7c"
      },
      "execution_count": null,
      "outputs": [
        {
          "output_type": "stream",
          "name": "stdout",
          "text": [
            "Fernando Gomes\n"
          ]
        }
      ]
    },
    {
      "cell_type": "code",
      "source": [
        "nome + sobrenome"
      ],
      "metadata": {
        "colab": {
          "base_uri": "https://localhost:8080/",
          "height": 35
        },
        "id": "WgtIurEIs_0V",
        "outputId": "7a9181d7-0ba2-44c3-c47a-01a229764e97"
      },
      "execution_count": null,
      "outputs": [
        {
          "output_type": "execute_result",
          "data": {
            "text/plain": [
              "'FernandoGomes'"
            ],
            "application/vnd.google.colaboratory.intrinsic+json": {
              "type": "string"
            }
          },
          "metadata": {},
          "execution_count": 5
        }
      ]
    },
    {
      "cell_type": "code",
      "source": [
        "print(nome + sobrenome)"
      ],
      "metadata": {
        "colab": {
          "base_uri": "https://localhost:8080/"
        },
        "id": "0-1QXKLTtDhu",
        "outputId": "84a6c0b6-b217-4501-8898-8105aaa4867d"
      },
      "execution_count": null,
      "outputs": [
        {
          "output_type": "stream",
          "name": "stdout",
          "text": [
            "FernandoGomes\n"
          ]
        }
      ]
    },
    {
      "cell_type": "code",
      "source": [
        "'a' + 'b' + 'c'"
      ],
      "metadata": {
        "colab": {
          "base_uri": "https://localhost:8080/",
          "height": 35
        },
        "id": "kTZh-Uh7tQZn",
        "outputId": "8b05c7a3-2b35-46b8-a657-ed20baff623a"
      },
      "execution_count": null,
      "outputs": [
        {
          "output_type": "execute_result",
          "data": {
            "text/plain": [
              "'abc'"
            ],
            "application/vnd.google.colaboratory.intrinsic+json": {
              "type": "string"
            }
          },
          "metadata": {},
          "execution_count": 7
        }
      ]
    },
    {
      "cell_type": "markdown",
      "source": [
        "## String são objetos iteráveis"
      ],
      "metadata": {
        "id": "BxtsiN3AtXLY"
      }
    },
    {
      "cell_type": "code",
      "source": [
        "nome"
      ],
      "metadata": {
        "colab": {
          "base_uri": "https://localhost:8080/",
          "height": 35
        },
        "id": "0-EntpAdtTWW",
        "outputId": "f3ce6b97-842b-49dd-821b-7442ce385783"
      },
      "execution_count": null,
      "outputs": [
        {
          "output_type": "execute_result",
          "data": {
            "text/plain": [
              "'Fernando'"
            ],
            "application/vnd.google.colaboratory.intrinsic+json": {
              "type": "string"
            }
          },
          "metadata": {},
          "execution_count": 8
        }
      ]
    },
    {
      "cell_type": "code",
      "source": [
        "nome[1]"
      ],
      "metadata": {
        "colab": {
          "base_uri": "https://localhost:8080/",
          "height": 35
        },
        "id": "0qKy5WKCvM-Q",
        "outputId": "87143d4b-ac2a-4bfc-e975-8d49994fb1e1"
      },
      "execution_count": null,
      "outputs": [
        {
          "output_type": "execute_result",
          "data": {
            "text/plain": [
              "'e'"
            ],
            "application/vnd.google.colaboratory.intrinsic+json": {
              "type": "string"
            }
          },
          "metadata": {},
          "execution_count": 9
        }
      ]
    },
    {
      "cell_type": "code",
      "source": [
        "nome[-1]"
      ],
      "metadata": {
        "colab": {
          "base_uri": "https://localhost:8080/",
          "height": 35
        },
        "id": "fwbljuvgvO6U",
        "outputId": "01b643c5-a3f2-4f6a-bd0c-736de921337e"
      },
      "execution_count": null,
      "outputs": [
        {
          "output_type": "execute_result",
          "data": {
            "text/plain": [
              "'o'"
            ],
            "application/vnd.google.colaboratory.intrinsic+json": {
              "type": "string"
            }
          },
          "metadata": {},
          "execution_count": 10
        }
      ]
    },
    {
      "cell_type": "markdown",
      "source": [
        "# Métodos do tipo String"
      ],
      "metadata": {
        "id": "EpQvMNH_SJ_C"
      }
    },
    {
      "cell_type": "markdown",
      "source": [
        "## split()\n",
        "\n",
        "Divide uma string, convertendo-a em uma lista."
      ],
      "metadata": {
        "id": "CGQPIanWSV33"
      }
    },
    {
      "cell_type": "code",
      "source": [
        "frase = 'Meu nome é Fernando. Eu estou estudando a linguagem Python!'"
      ],
      "metadata": {
        "id": "xIa2wVs1SLaA"
      },
      "execution_count": 1,
      "outputs": []
    },
    {
      "cell_type": "code",
      "source": [
        "frase"
      ],
      "metadata": {
        "colab": {
          "base_uri": "https://localhost:8080/",
          "height": 35
        },
        "id": "uJk3yxOMScE1",
        "outputId": "8eeb0bf8-41a9-4422-9df4-6a2140b28dbb"
      },
      "execution_count": 2,
      "outputs": [
        {
          "output_type": "execute_result",
          "data": {
            "text/plain": [
              "'Meu nome é Fernando. Eu estou estudando a linguagem Python!'"
            ],
            "application/vnd.google.colaboratory.intrinsic+json": {
              "type": "string"
            }
          },
          "metadata": {},
          "execution_count": 2
        }
      ]
    },
    {
      "cell_type": "code",
      "source": [
        "frase.split()"
      ],
      "metadata": {
        "colab": {
          "base_uri": "https://localhost:8080/"
        },
        "id": "ahY3VfbCScue",
        "outputId": "1be032b8-0710-4a22-f8c9-02bf39424536"
      },
      "execution_count": 4,
      "outputs": [
        {
          "output_type": "execute_result",
          "data": {
            "text/plain": [
              "['Meu',\n",
              " 'nome',\n",
              " 'é',\n",
              " 'Fernando.',\n",
              " 'Eu',\n",
              " 'estou',\n",
              " 'estudando',\n",
              " 'a',\n",
              " 'linguagem',\n",
              " 'Python!']"
            ]
          },
          "metadata": {},
          "execution_count": 4
        }
      ]
    },
    {
      "cell_type": "code",
      "source": [
        "lista = frase.split()"
      ],
      "metadata": {
        "id": "jFWHz9C4SlnL"
      },
      "execution_count": 7,
      "outputs": []
    },
    {
      "cell_type": "code",
      "source": [
        "lista"
      ],
      "metadata": {
        "colab": {
          "base_uri": "https://localhost:8080/"
        },
        "id": "Yyb8DOrWSs6y",
        "outputId": "42c2ff62-4cc4-4f08-c6f2-7b70f07a45d6"
      },
      "execution_count": 8,
      "outputs": [
        {
          "output_type": "execute_result",
          "data": {
            "text/plain": [
              "['Meu',\n",
              " 'nome',\n",
              " 'é',\n",
              " 'Fernando.',\n",
              " 'Eu',\n",
              " 'estou',\n",
              " 'estudando',\n",
              " 'a',\n",
              " 'linguagem',\n",
              " 'Python!']"
            ]
          },
          "metadata": {},
          "execution_count": 8
        }
      ]
    },
    {
      "cell_type": "code",
      "source": [
        "lista[2]"
      ],
      "metadata": {
        "colab": {
          "base_uri": "https://localhost:8080/",
          "height": 35
        },
        "id": "PKsXBEGgSxFI",
        "outputId": "e27774f5-d9b8-4c11-d049-da99d5c7fe15"
      },
      "execution_count": 9,
      "outputs": [
        {
          "output_type": "execute_result",
          "data": {
            "text/plain": [
              "'é'"
            ],
            "application/vnd.google.colaboratory.intrinsic+json": {
              "type": "string"
            }
          },
          "metadata": {},
          "execution_count": 9
        }
      ]
    },
    {
      "cell_type": "code",
      "source": [
        "lista[-1]"
      ],
      "metadata": {
        "colab": {
          "base_uri": "https://localhost:8080/",
          "height": 35
        },
        "id": "3pwbxMVBSzec",
        "outputId": "d2f3e494-17ab-4198-8a60-71da9f46cd4d"
      },
      "execution_count": 10,
      "outputs": [
        {
          "output_type": "execute_result",
          "data": {
            "text/plain": [
              "'Python!'"
            ],
            "application/vnd.google.colaboratory.intrinsic+json": {
              "type": "string"
            }
          },
          "metadata": {},
          "execution_count": 10
        }
      ]
    },
    {
      "cell_type": "markdown",
      "source": [
        "## strip()\n",
        "\n",
        "Remove espaços em branco do início e do fim de uma string."
      ],
      "metadata": {
        "id": "rKcfAiiqS6Kc"
      }
    },
    {
      "cell_type": "code",
      "source": [
        "frase = '     Meu nome é Fernando    '"
      ],
      "metadata": {
        "id": "ZRbeZiRgS153"
      },
      "execution_count": 15,
      "outputs": []
    },
    {
      "cell_type": "code",
      "source": [
        "frase"
      ],
      "metadata": {
        "colab": {
          "base_uri": "https://localhost:8080/",
          "height": 35
        },
        "id": "L9Iw_fjVS9tL",
        "outputId": "69cdb724-28b0-4d19-e913-468e112b5f7f"
      },
      "execution_count": 16,
      "outputs": [
        {
          "output_type": "execute_result",
          "data": {
            "text/plain": [
              "'     Meu nome é Fernando    '"
            ],
            "application/vnd.google.colaboratory.intrinsic+json": {
              "type": "string"
            }
          },
          "metadata": {},
          "execution_count": 16
        }
      ]
    },
    {
      "cell_type": "code",
      "source": [
        "print(frase)"
      ],
      "metadata": {
        "colab": {
          "base_uri": "https://localhost:8080/"
        },
        "id": "Y5tJOGjHTFlD",
        "outputId": "5c8b62ab-6d89-40f1-e80e-7dbc739cc2fa"
      },
      "execution_count": 17,
      "outputs": [
        {
          "output_type": "stream",
          "name": "stdout",
          "text": [
            "     Meu nome é Fernando    \n"
          ]
        }
      ]
    },
    {
      "cell_type": "code",
      "source": [
        "frase.strip()"
      ],
      "metadata": {
        "colab": {
          "base_uri": "https://localhost:8080/",
          "height": 35
        },
        "id": "asshy-GTTy6L",
        "outputId": "de67bff1-c189-4dc7-c8a5-b38c295502a3"
      },
      "execution_count": 18,
      "outputs": [
        {
          "output_type": "execute_result",
          "data": {
            "text/plain": [
              "'Meu nome é Fernando'"
            ],
            "application/vnd.google.colaboratory.intrinsic+json": {
              "type": "string"
            }
          },
          "metadata": {},
          "execution_count": 18
        }
      ]
    },
    {
      "cell_type": "code",
      "source": [
        "print(frase.strip())"
      ],
      "metadata": {
        "colab": {
          "base_uri": "https://localhost:8080/"
        },
        "id": "8N8eceCZT0tZ",
        "outputId": "e190b3f1-fa3b-4d0e-bfaf-c5b325db8c8c"
      },
      "execution_count": 19,
      "outputs": [
        {
          "output_type": "stream",
          "name": "stdout",
          "text": [
            "Meu nome é Fernando\n"
          ]
        }
      ]
    },
    {
      "cell_type": "markdown",
      "source": [
        "## capitalize()\n",
        "\n",
        "Retorna uma string com a primeira letra maiúscula e todas as demais minúsculas."
      ],
      "metadata": {
        "id": "VdNog6_xUSnI"
      }
    },
    {
      "cell_type": "code",
      "source": [
        "frase = 'Meu nome é Fernando e eu gosto muito de estudar Python.'"
      ],
      "metadata": {
        "id": "zRDOUpowT4Ci"
      },
      "execution_count": 20,
      "outputs": []
    },
    {
      "cell_type": "code",
      "source": [
        "frase"
      ],
      "metadata": {
        "colab": {
          "base_uri": "https://localhost:8080/",
          "height": 35
        },
        "id": "U1c-oaZuUWTU",
        "outputId": "0eddb34d-2076-4876-9e8a-03f8f7fc4461"
      },
      "execution_count": 21,
      "outputs": [
        {
          "output_type": "execute_result",
          "data": {
            "text/plain": [
              "'Meu nome é Fernando e eu gosto muito de estudar Python.'"
            ],
            "application/vnd.google.colaboratory.intrinsic+json": {
              "type": "string"
            }
          },
          "metadata": {},
          "execution_count": 21
        }
      ]
    },
    {
      "cell_type": "code",
      "source": [
        "frase.capitalize()"
      ],
      "metadata": {
        "colab": {
          "base_uri": "https://localhost:8080/",
          "height": 35
        },
        "id": "295PJq05UW3h",
        "outputId": "90c9cdc4-a87f-4ef0-9a8d-92a7564f1809"
      },
      "execution_count": 22,
      "outputs": [
        {
          "output_type": "execute_result",
          "data": {
            "text/plain": [
              "'Meu nome é fernando e eu gosto muito de estudar python.'"
            ],
            "application/vnd.google.colaboratory.intrinsic+json": {
              "type": "string"
            }
          },
          "metadata": {},
          "execution_count": 22
        }
      ]
    },
    {
      "cell_type": "markdown",
      "source": [
        "## lower()\n",
        "\n",
        "Retorna uma string com todas as letras minúsculas."
      ],
      "metadata": {
        "id": "fWiK_t8DU15g"
      }
    },
    {
      "cell_type": "code",
      "source": [
        "frase"
      ],
      "metadata": {
        "colab": {
          "base_uri": "https://localhost:8080/",
          "height": 35
        },
        "id": "kak-D9Y7UZGh",
        "outputId": "7037fc60-cf57-4285-fc6e-4a26ee1f27c8"
      },
      "execution_count": 23,
      "outputs": [
        {
          "output_type": "execute_result",
          "data": {
            "text/plain": [
              "'Meu nome é Fernando e eu gosto muito de estudar Python.'"
            ],
            "application/vnd.google.colaboratory.intrinsic+json": {
              "type": "string"
            }
          },
          "metadata": {},
          "execution_count": 23
        }
      ]
    },
    {
      "cell_type": "code",
      "source": [
        "frase.lower()"
      ],
      "metadata": {
        "colab": {
          "base_uri": "https://localhost:8080/",
          "height": 35
        },
        "id": "ilOrec47U4xW",
        "outputId": "83852415-565f-48e0-cd92-de811138ce79"
      },
      "execution_count": 24,
      "outputs": [
        {
          "output_type": "execute_result",
          "data": {
            "text/plain": [
              "'meu nome é fernando e eu gosto muito de estudar python.'"
            ],
            "application/vnd.google.colaboratory.intrinsic+json": {
              "type": "string"
            }
          },
          "metadata": {},
          "execution_count": 24
        }
      ]
    },
    {
      "cell_type": "markdown",
      "source": [
        "## upper()\n",
        "\n",
        "Retorna uma string com todas as letras maiúsculas."
      ],
      "metadata": {
        "id": "HiHJ82NvU9VA"
      }
    },
    {
      "cell_type": "code",
      "source": [
        "frase"
      ],
      "metadata": {
        "colab": {
          "base_uri": "https://localhost:8080/",
          "height": 35
        },
        "id": "1uCMo_hbU57F",
        "outputId": "767809c6-16cb-4a48-e040-ea1a36c8c0d7"
      },
      "execution_count": 25,
      "outputs": [
        {
          "output_type": "execute_result",
          "data": {
            "text/plain": [
              "'Meu nome é Fernando e eu gosto muito de estudar Python.'"
            ],
            "application/vnd.google.colaboratory.intrinsic+json": {
              "type": "string"
            }
          },
          "metadata": {},
          "execution_count": 25
        }
      ]
    },
    {
      "cell_type": "code",
      "source": [
        "frase.upper()"
      ],
      "metadata": {
        "colab": {
          "base_uri": "https://localhost:8080/",
          "height": 35
        },
        "id": "oq3VjpdzU-Z2",
        "outputId": "87a357cb-f1bc-4e84-88c5-68c80b708cfc"
      },
      "execution_count": 26,
      "outputs": [
        {
          "output_type": "execute_result",
          "data": {
            "text/plain": [
              "'MEU NOME É FERNANDO E EU GOSTO MUITO DE ESTUDAR PYTHON.'"
            ],
            "application/vnd.google.colaboratory.intrinsic+json": {
              "type": "string"
            }
          },
          "metadata": {},
          "execution_count": 26
        }
      ]
    },
    {
      "cell_type": "markdown",
      "source": [
        "## title()\n",
        "\n",
        "Retorna uma string onde a primeira letra de cada palavra será maiúscula."
      ],
      "metadata": {
        "id": "_wGf1GNHVE-4"
      }
    },
    {
      "cell_type": "code",
      "source": [
        "frase"
      ],
      "metadata": {
        "colab": {
          "base_uri": "https://localhost:8080/",
          "height": 35
        },
        "id": "_Rp9LdogU_3e",
        "outputId": "cb531e46-bf50-453b-d64d-75e7e00a42d4"
      },
      "execution_count": 27,
      "outputs": [
        {
          "output_type": "execute_result",
          "data": {
            "text/plain": [
              "'Meu nome é Fernando e eu gosto muito de estudar Python.'"
            ],
            "application/vnd.google.colaboratory.intrinsic+json": {
              "type": "string"
            }
          },
          "metadata": {},
          "execution_count": 27
        }
      ]
    },
    {
      "cell_type": "code",
      "source": [
        "frase.title()"
      ],
      "metadata": {
        "colab": {
          "base_uri": "https://localhost:8080/",
          "height": 35
        },
        "id": "MyOs25sVVGTf",
        "outputId": "16fd8a7b-6d42-46cd-ea3e-77459cee5d4f"
      },
      "execution_count": 28,
      "outputs": [
        {
          "output_type": "execute_result",
          "data": {
            "text/plain": [
              "'Meu Nome É Fernando E Eu Gosto Muito De Estudar Python.'"
            ],
            "application/vnd.google.colaboratory.intrinsic+json": {
              "type": "string"
            }
          },
          "metadata": {},
          "execution_count": 28
        }
      ]
    },
    {
      "cell_type": "markdown",
      "source": [
        "# Slicing (fatiamento)\n",
        "\n",
        "A técnica de fatiamento nos permite acessar partes de uma string utilizando a notação de índice.\n"
      ],
      "metadata": {
        "id": "7RIwrzANXZ5q"
      }
    },
    {
      "cell_type": "markdown",
      "source": [
        "## Acessando o índice"
      ],
      "metadata": {
        "id": "zielQPK6XeU_"
      }
    },
    {
      "cell_type": "code",
      "source": [
        "frase"
      ],
      "metadata": {
        "colab": {
          "base_uri": "https://localhost:8080/",
          "height": 35
        },
        "id": "lXST6kKtVIGZ",
        "outputId": "803a341a-e9e6-4055-83d0-eee24f165436"
      },
      "execution_count": 29,
      "outputs": [
        {
          "output_type": "execute_result",
          "data": {
            "text/plain": [
              "'Meu nome é Fernando e eu gosto muito de estudar Python.'"
            ],
            "application/vnd.google.colaboratory.intrinsic+json": {
              "type": "string"
            }
          },
          "metadata": {},
          "execution_count": 29
        }
      ]
    },
    {
      "cell_type": "code",
      "source": [
        "frase[1:]"
      ],
      "metadata": {
        "colab": {
          "base_uri": "https://localhost:8080/",
          "height": 35
        },
        "id": "QZEcu1toXizn",
        "outputId": "d4c4062e-b275-49c3-9b86-04e3f52ec16d"
      },
      "execution_count": 30,
      "outputs": [
        {
          "output_type": "execute_result",
          "data": {
            "text/plain": [
              "'eu nome é Fernando e eu gosto muito de estudar Python.'"
            ],
            "application/vnd.google.colaboratory.intrinsic+json": {
              "type": "string"
            }
          },
          "metadata": {},
          "execution_count": 30
        }
      ]
    },
    {
      "cell_type": "code",
      "source": [
        "frase[1]"
      ],
      "metadata": {
        "colab": {
          "base_uri": "https://localhost:8080/",
          "height": 35
        },
        "id": "jXYjLeBpXluz",
        "outputId": "cab91119-7d59-4d75-c8e0-318438ef770f"
      },
      "execution_count": 31,
      "outputs": [
        {
          "output_type": "execute_result",
          "data": {
            "text/plain": [
              "'e'"
            ],
            "application/vnd.google.colaboratory.intrinsic+json": {
              "type": "string"
            }
          },
          "metadata": {},
          "execution_count": 31
        }
      ]
    },
    {
      "cell_type": "markdown",
      "source": [
        "## Notação de dois pontos"
      ],
      "metadata": {
        "id": "7NckJCRPYpXB"
      }
    },
    {
      "cell_type": "code",
      "source": [
        "frase[0:3]"
      ],
      "metadata": {
        "colab": {
          "base_uri": "https://localhost:8080/",
          "height": 35
        },
        "id": "I_lHBAqnXrsO",
        "outputId": "8ca499eb-b961-4c54-d3b1-78a72c78c995"
      },
      "execution_count": 33,
      "outputs": [
        {
          "output_type": "execute_result",
          "data": {
            "text/plain": [
              "'Meu'"
            ],
            "application/vnd.google.colaboratory.intrinsic+json": {
              "type": "string"
            }
          },
          "metadata": {},
          "execution_count": 33
        }
      ]
    },
    {
      "cell_type": "code",
      "source": [
        "frase[-7:]"
      ],
      "metadata": {
        "colab": {
          "base_uri": "https://localhost:8080/",
          "height": 35
        },
        "id": "bK5XjtxKXu2b",
        "outputId": "d00a32c8-915f-437d-9a19-da36c4071fe3"
      },
      "execution_count": 35,
      "outputs": [
        {
          "output_type": "execute_result",
          "data": {
            "text/plain": [
              "'Python.'"
            ],
            "application/vnd.google.colaboratory.intrinsic+json": {
              "type": "string"
            }
          },
          "metadata": {},
          "execution_count": 35
        }
      ]
    },
    {
      "cell_type": "code",
      "source": [
        "frase[-7:-1]"
      ],
      "metadata": {
        "colab": {
          "base_uri": "https://localhost:8080/",
          "height": 35
        },
        "id": "WXr9AO0YXyYG",
        "outputId": "b0ef7327-67fa-44b1-cf5b-4d3a228cb4b5"
      },
      "execution_count": 37,
      "outputs": [
        {
          "output_type": "execute_result",
          "data": {
            "text/plain": [
              "'Python'"
            ],
            "application/vnd.google.colaboratory.intrinsic+json": {
              "type": "string"
            }
          },
          "metadata": {},
          "execution_count": 37
        }
      ]
    },
    {
      "cell_type": "markdown",
      "source": [
        "## Steps (passos)"
      ],
      "metadata": {
        "id": "hGmTgpIUbL4p"
      }
    },
    {
      "cell_type": "code",
      "source": [
        "frase"
      ],
      "metadata": {
        "colab": {
          "base_uri": "https://localhost:8080/",
          "height": 35
        },
        "id": "XeHDSbExbMsi",
        "outputId": "60fe7450-42ad-4214-d8a9-514fe7e93194"
      },
      "execution_count": 38,
      "outputs": [
        {
          "output_type": "execute_result",
          "data": {
            "text/plain": [
              "'Meu nome é Fernando e eu gosto muito de estudar Python.'"
            ],
            "application/vnd.google.colaboratory.intrinsic+json": {
              "type": "string"
            }
          },
          "metadata": {},
          "execution_count": 38
        }
      ]
    },
    {
      "cell_type": "code",
      "source": [
        "frase[::1]"
      ],
      "metadata": {
        "colab": {
          "base_uri": "https://localhost:8080/",
          "height": 35
        },
        "id": "TzBR2o5ncNJQ",
        "outputId": "c9ef1397-e247-4bbb-a234-7f3a38940f5a"
      },
      "execution_count": 40,
      "outputs": [
        {
          "output_type": "execute_result",
          "data": {
            "text/plain": [
              "'Meu nome é Fernando e eu gosto muito de estudar Python.'"
            ],
            "application/vnd.google.colaboratory.intrinsic+json": {
              "type": "string"
            }
          },
          "metadata": {},
          "execution_count": 40
        }
      ]
    },
    {
      "cell_type": "code",
      "source": [
        "frase[::2]"
      ],
      "metadata": {
        "colab": {
          "base_uri": "https://localhost:8080/",
          "height": 35
        },
        "id": "1PDcKGzqcQxQ",
        "outputId": "d14987c8-a6da-4210-a7eb-b1b33d4a67c1"
      },
      "execution_count": 41,
      "outputs": [
        {
          "output_type": "execute_result",
          "data": {
            "text/plain": [
              "'Munm  ennoee ot ut eetdrPto.'"
            ],
            "application/vnd.google.colaboratory.intrinsic+json": {
              "type": "string"
            }
          },
          "metadata": {},
          "execution_count": 41
        }
      ]
    },
    {
      "cell_type": "code",
      "source": [
        "frase[::3]"
      ],
      "metadata": {
        "colab": {
          "base_uri": "https://localhost:8080/",
          "height": 35
        },
        "id": "mext68IJcTZL",
        "outputId": "86083bf6-82d6-4e71-eadb-759d81e4a4cb"
      },
      "execution_count": 42,
      "outputs": [
        {
          "output_type": "execute_result",
          "data": {
            "text/plain": [
              "'M méeao  s i  taPh.'"
            ],
            "application/vnd.google.colaboratory.intrinsic+json": {
              "type": "string"
            }
          },
          "metadata": {},
          "execution_count": 42
        }
      ]
    },
    {
      "cell_type": "markdown",
      "source": [
        "## Invertendo uma string com slicing"
      ],
      "metadata": {
        "id": "oZ5cMiC6cVLN"
      }
    },
    {
      "cell_type": "code",
      "source": [
        "frase"
      ],
      "metadata": {
        "id": "4lBapINJcsKR",
        "colab": {
          "base_uri": "https://localhost:8080/",
          "height": 35
        },
        "outputId": "1c03c3b0-0a95-4e97-afe8-b79b55f514d8"
      },
      "execution_count": 44,
      "outputs": [
        {
          "output_type": "execute_result",
          "data": {
            "text/plain": [
              "'Meu nome é Fernando e eu gosto muito de estudar Python.'"
            ],
            "application/vnd.google.colaboratory.intrinsic+json": {
              "type": "string"
            }
          },
          "metadata": {},
          "execution_count": 44
        }
      ]
    },
    {
      "cell_type": "code",
      "source": [
        "frase[::-1]"
      ],
      "metadata": {
        "colab": {
          "base_uri": "https://localhost:8080/",
          "height": 35
        },
        "id": "WB4EAJDactI-",
        "outputId": "a8c7c7be-0480-4942-8f94-e062f1615a21"
      },
      "execution_count": 45,
      "outputs": [
        {
          "output_type": "execute_result",
          "data": {
            "text/plain": [
              "'.nohtyP radutse ed otium otsog ue e odnanreF é emon ueM'"
            ],
            "application/vnd.google.colaboratory.intrinsic+json": {
              "type": "string"
            }
          },
          "metadata": {},
          "execution_count": 45
        }
      ]
    },
    {
      "cell_type": "code",
      "source": [],
      "metadata": {
        "id": "8jieprPWczF3"
      },
      "execution_count": null,
      "outputs": []
    }
  ]
}